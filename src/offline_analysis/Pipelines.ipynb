{
 "cells": [
  {
   "cell_type": "code",
   "execution_count": 1,
   "id": "5d27aa80-f707-4c34-8e5e-8d5558b15e95",
   "metadata": {},
   "outputs": [],
   "source": [
    "import os\n",
    "import pyriemann\n",
    "import pandas as pd\n",
    "import numpy as np\n",
    "import matplotlib.pyplot as plt\n",
    "import seaborn as sns\n",
    "from pathlib import Path\n",
    "from scipy import stats\n",
    "from sklearn.model_selection import cross_val_score\n",
    "from scipy.fftpack import fft\n",
    "from scipy import signal\n",
    "\n",
    "#from mne.preprocessing import Xdawn\n",
    "from pyriemann.estimation import XdawnCovariances, Xdawn\n",
    "from pyriemann.estimation import ERPCovariances\n",
    "from pyriemann.tangentspace import TangentSpace\n",
    "from sklearn.linear_model import LogisticRegression\n",
    "import warnings\n",
    "from sklearn.ensemble import RandomForestClassifier, AdaBoostClassifier\n",
    "#from mne.decoding import Vectorizer\n",
    "from sklearn.discriminant_analysis import LinearDiscriminantAnalysis as LDA\n",
    "from sklearn.discriminant_analysis import QuadraticDiscriminantAnalysis as QDA\n",
    "from sklearn.base import BaseEstimator, TransformerMixin\n",
    "from sklearn.pipeline import make_pipeline\n",
    "from sklearn.preprocessing import StandardScaler\n",
    "from sklearn.model_selection import KFold\n",
    "from sklearn.metrics import confusion_matrix, ConfusionMatrixDisplay\n",
    "from sklearn.neighbors import KNeighborsClassifier\n",
    "from pyriemann.classification import MDM\n",
    "from sklearn.svm import SVC\n",
    "from sklearn.neural_network import MLPClassifier\n",
    "#import mne"
   ]
  },
  {
   "cell_type": "markdown",
   "id": "a7dbcc0f-33a8-4aea-beb7-2a01b7957e95",
   "metadata": {
    "tags": []
   },
   "source": [
    "### Import data\n",
    "\n",
    "Run the first cell if you want to only look at individuals data\\\n",
    "and the second cell if you want a combined data set"
   ]
  },
  {
   "cell_type": "code",
   "execution_count": 4,
   "id": "43f14846",
   "metadata": {},
   "outputs": [
    {
     "name": "stdout",
     "output_type": "stream",
     "text": [
      "(150, 4, 256)\n"
     ]
    }
   ],
   "source": [
    "#Combined test subjects and sessions\n",
    "subjects = (\"\",\"FnF_amin\")\n",
    "sessions = (\"1\",\"2\",\"3\")\n",
    "data_dir = Path(\"../timeflux/data/\")\n",
    "paths = np.array([[data_dir / f\"{subj}\" / f\"{sesh}\" for sesh in sessions] for subj in subjects]).flatten()\n",
    "numSess = len(sessions)*(len(subjects)-1)\n",
    "x_data = np.empty((0,4,256)) # Placeholder for data\n",
    "y_data = np.empty((0)) # Placeholder for data\n",
    "for path in paths:\n",
    "    for file in path.glob(\"data_*.npz\"):\n",
    "        with open(file, \"rb\") as npz:\n",
    "            archive = np.load(npz, allow_pickle=True)\n",
    "            x_data = np.concatenate((x_data, archive[\"X\"]))\n",
    "            y_data = np.concatenate((y_data, archive[\"y\"]))\n",
    "\n",
    "def objmap(n):\n",
    "    if (n==\"face\"):\n",
    "        return 1\n",
    "    else:\n",
    "        return 0\n",
    "def FNFmap(n):\n",
    "    if (n==\"familiar\"):\n",
    "        return 1\n",
    "    else:\n",
    "        return 0\n",
    "#y_data= np.array([objmap(el) for el in y_data])  #obj\n",
    "y_data= np.array([FNFmap(el) for el in y_data])  #FNF\n",
    "#y_data = y_data.astype(int)\n",
    "print(np.shape(x_data))"
   ]
  },
  {
   "cell_type": "markdown",
   "id": "225e79d2-aec2-4358-9c54-fda44f38b837",
   "metadata": {
    "tags": []
   },
   "source": [
    "### Cross-sessions eval"
   ]
  },
  {
   "cell_type": "code",
   "execution_count": 5,
   "id": "e92de0da",
   "metadata": {},
   "outputs": [],
   "source": [
    "class Vectorizer(BaseEstimator, TransformerMixin):\n",
    "    def __init__(self):\n",
    "        pass\n",
    "\n",
    "    def fit(self, X, y):\n",
    "        \"\"\"fit.\"\"\"\n",
    "        return self\n",
    "\n",
    "    def transform(self, X):\n",
    "        \"\"\"transform. \"\"\"\n",
    "        return np.reshape(X, (X.shape[0], -1))"
   ]
  },
  {
   "cell_type": "code",
   "execution_count": 6,
   "id": "7ec8cd67",
   "metadata": {},
   "outputs": [],
   "source": [
    "\n",
    "pipelines = {}\n",
    "\n",
    "pipelines[\"XDAWN covariances + Logistic regression \"] = make_pipeline(\n",
    "    XdawnCovariances(4, estimator=\"lwf\", xdawn_estimator=\"scm\"),\n",
    "    TangentSpace(metric=\"riemann\"),\n",
    "    StandardScaler(),\n",
    "    LogisticRegression(),\n",
    ")\n",
    "\n",
    "pipelines[\"XDAWN + LDA\"] = make_pipeline(\n",
    "    Xdawn(nfilter=4, estimator=\"scm\"),\n",
    "    Vectorizer(),\n",
    "    StandardScaler(),\n",
    "    LDA(solver=\"lsqr\", shrinkage=\"auto\"),\n",
    ")\n",
    "\n",
    "pipelines[\"LDA\"] = make_pipeline(\n",
    "    Vectorizer(),\n",
    "    StandardScaler(),\n",
    "    LDA(solver=\"lsqr\", shrinkage=\"auto\"),\n",
    ")\n",
    "\n",
    "\n",
    "\n",
    "#pipelines[\"QDA\"] = make_pipeline(\n",
    "#    Vectorizer(),\n",
    "#    StandardScaler(),\n",
    "#    QDA(),\n",
    "#)\n",
    "\n",
    "\n",
    "pipelines[\"XDAWN covariances + LDA\"] = make_pipeline(\n",
    "    XdawnCovariances(4, estimator=\"lwf\", xdawn_estimator=\"scm\"),\n",
    "    TangentSpace(metric=\"riemann\"),\n",
    "    StandardScaler(),\n",
    "    LDA(solver=\"lsqr\", shrinkage=\"auto\"),\n",
    ")\n",
    "pipelines[\"XDAWN covariances + SVM\"] = make_pipeline(\n",
    "    XdawnCovariances(4, estimator=\"lwf\", xdawn_estimator=\"scm\"),\n",
    "    TangentSpace(metric=\"riemann\"),\n",
    "    StandardScaler(),\n",
    "    SVC(),\n",
    ")\n",
    "\n",
    "#pipelines[\"XDAWN covariances + QDA\"] = make_pipeline(\n",
    "#    XdawnCovariances(4, estimator=\"lwf\", xdawn_estimator=\"scm\"),\n",
    "#    TangentSpace(metric=\"riemann\"),\n",
    "#    StandardScaler(),\n",
    "#    QDA(),\n",
    "#)\n",
    "\n",
    "pipelines[\"XDAWN covariances + KNearestNeighbors\"] = make_pipeline(\n",
    "    XdawnCovariances(3, estimator=\"lwf\", xdawn_estimator=\"scm\"),\n",
    "    TangentSpace(metric=\"riemann\"),\n",
    "    KNeighborsClassifier(),\n",
    ")\n",
    "pipelines[\"XDAWN covariances + MDM\"]=make_pipeline(\n",
    "    XdawnCovariances(3, estimator=\"lwf\", xdawn_estimator=\"scm\"),\n",
    "    MDM(),\n",
    ")\n",
    "\n",
    "pipelines[\"MLP\"] = make_pipeline(\n",
    "    Vectorizer(),\n",
    "    StandardScaler(),\n",
    "    MLPClassifier(hidden_layer_sizes=(10,10,2), max_iter=30000,tol=10**(-8),activation = 'tanh',solver='adam',random_state=123)\n",
    ")\n",
    "pipelines[\"XDAWN covariances + MLP \"]= make_pipeline(\n",
    "    XdawnCovariances(4, estimator=\"lwf\", xdawn_estimator=\"scm\"),\n",
    "    TangentSpace(metric=\"riemann\"),\n",
    "    Vectorizer(),\n",
    "    StandardScaler(),\n",
    "    MLPClassifier(hidden_layer_sizes=(20,20,10,2), max_iter=30000,tol=10**(-8),activation = 'tanh',solver='adam',random_state=123)\n",
    ")"
   ]
  },
  {
   "cell_type": "markdown",
   "id": "3916fe23",
   "metadata": {},
   "source": [
    "### Within-Session Evaluation"
   ]
  },
  {
   "cell_type": "code",
   "execution_count": 7,
   "id": "01f52853",
   "metadata": {},
   "outputs": [
    {
     "name": "stdout",
     "output_type": "stream",
     "text": [
      "XDAWN covariances + Logistic regression :\n",
      "Classification accuracy: 0.600000 \n",
      "XDAWN covariances + Logistic regression :\n",
      "Classification accuracy: 0.640000 \n",
      "XDAWN covariances + Logistic regression :\n",
      "Classification accuracy: 0.480000 \n"
     ]
    },
    {
     "ename": "KeyboardInterrupt",
     "evalue": "",
     "output_type": "error",
     "traceback": [
      "\u001b[0;31m---------------------------------------------------------------------------\u001b[0m",
      "\u001b[0;31mKeyboardInterrupt\u001b[0m                         Traceback (most recent call last)",
      "\u001b[0;32m/tmp/ipykernel_217678/1404789646.py\u001b[0m in \u001b[0;36m<module>\u001b[0;34m\u001b[0m\n\u001b[1;32m     10\u001b[0m             \u001b[0my_train\u001b[0m\u001b[0;34m,\u001b[0m \u001b[0my_test\u001b[0m \u001b[0;34m=\u001b[0m \u001b[0my_split\u001b[0m\u001b[0;34m[\u001b[0m\u001b[0mtrain_idx\u001b[0m\u001b[0;34m]\u001b[0m\u001b[0;34m,\u001b[0m \u001b[0my_split\u001b[0m\u001b[0;34m[\u001b[0m\u001b[0mtest_idx\u001b[0m\u001b[0;34m]\u001b[0m\u001b[0;34m\u001b[0m\u001b[0;34m\u001b[0m\u001b[0m\n\u001b[1;32m     11\u001b[0m \u001b[0;34m\u001b[0m\u001b[0m\n\u001b[0;32m---> 12\u001b[0;31m             \u001b[0mpipe\u001b[0m\u001b[0;34m.\u001b[0m\u001b[0mfit\u001b[0m\u001b[0;34m(\u001b[0m\u001b[0mx_split\u001b[0m\u001b[0;34m[\u001b[0m\u001b[0mtrain_idx\u001b[0m\u001b[0;34m]\u001b[0m\u001b[0;34m,\u001b[0m \u001b[0my_train\u001b[0m\u001b[0;34m)\u001b[0m\u001b[0;34m\u001b[0m\u001b[0;34m\u001b[0m\u001b[0m\n\u001b[0m\u001b[1;32m     13\u001b[0m             \u001b[0mpreds\u001b[0m\u001b[0;34m[\u001b[0m\u001b[0mtest_idx\u001b[0m\u001b[0;34m]\u001b[0m \u001b[0;34m=\u001b[0m \u001b[0mpipe\u001b[0m\u001b[0;34m.\u001b[0m\u001b[0mpredict\u001b[0m\u001b[0;34m(\u001b[0m\u001b[0mx_split\u001b[0m\u001b[0;34m[\u001b[0m\u001b[0mtest_idx\u001b[0m\u001b[0;34m]\u001b[0m\u001b[0;34m)\u001b[0m\u001b[0;34m\u001b[0m\u001b[0;34m\u001b[0m\u001b[0m\n\u001b[1;32m     14\u001b[0m \u001b[0;34m\u001b[0m\u001b[0m\n",
      "\u001b[0;32m~/.local/lib/python3.8/site-packages/sklearn/pipeline.py\u001b[0m in \u001b[0;36mfit\u001b[0;34m(self, X, y, **fit_params)\u001b[0m\n\u001b[1;32m    392\u001b[0m             \u001b[0;32mif\u001b[0m \u001b[0mself\u001b[0m\u001b[0;34m.\u001b[0m\u001b[0m_final_estimator\u001b[0m \u001b[0;34m!=\u001b[0m \u001b[0;34m\"passthrough\"\u001b[0m\u001b[0;34m:\u001b[0m\u001b[0;34m\u001b[0m\u001b[0;34m\u001b[0m\u001b[0m\n\u001b[1;32m    393\u001b[0m                 \u001b[0mfit_params_last_step\u001b[0m \u001b[0;34m=\u001b[0m \u001b[0mfit_params_steps\u001b[0m\u001b[0;34m[\u001b[0m\u001b[0mself\u001b[0m\u001b[0;34m.\u001b[0m\u001b[0msteps\u001b[0m\u001b[0;34m[\u001b[0m\u001b[0;34m-\u001b[0m\u001b[0;36m1\u001b[0m\u001b[0;34m]\u001b[0m\u001b[0;34m[\u001b[0m\u001b[0;36m0\u001b[0m\u001b[0;34m]\u001b[0m\u001b[0;34m]\u001b[0m\u001b[0;34m\u001b[0m\u001b[0;34m\u001b[0m\u001b[0m\n\u001b[0;32m--> 394\u001b[0;31m                 \u001b[0mself\u001b[0m\u001b[0;34m.\u001b[0m\u001b[0m_final_estimator\u001b[0m\u001b[0;34m.\u001b[0m\u001b[0mfit\u001b[0m\u001b[0;34m(\u001b[0m\u001b[0mXt\u001b[0m\u001b[0;34m,\u001b[0m \u001b[0my\u001b[0m\u001b[0;34m,\u001b[0m \u001b[0;34m**\u001b[0m\u001b[0mfit_params_last_step\u001b[0m\u001b[0;34m)\u001b[0m\u001b[0;34m\u001b[0m\u001b[0;34m\u001b[0m\u001b[0m\n\u001b[0m\u001b[1;32m    395\u001b[0m \u001b[0;34m\u001b[0m\u001b[0m\n\u001b[1;32m    396\u001b[0m         \u001b[0;32mreturn\u001b[0m \u001b[0mself\u001b[0m\u001b[0;34m\u001b[0m\u001b[0;34m\u001b[0m\u001b[0m\n",
      "\u001b[0;32m~/.local/lib/python3.8/site-packages/sklearn/discriminant_analysis.py\u001b[0m in \u001b[0;36mfit\u001b[0;34m(self, X, y)\u001b[0m\n\u001b[1;32m    590\u001b[0m             \u001b[0mself\u001b[0m\u001b[0;34m.\u001b[0m\u001b[0m_solve_svd\u001b[0m\u001b[0;34m(\u001b[0m\u001b[0mX\u001b[0m\u001b[0;34m,\u001b[0m \u001b[0my\u001b[0m\u001b[0;34m)\u001b[0m\u001b[0;34m\u001b[0m\u001b[0;34m\u001b[0m\u001b[0m\n\u001b[1;32m    591\u001b[0m         \u001b[0;32melif\u001b[0m \u001b[0mself\u001b[0m\u001b[0;34m.\u001b[0m\u001b[0msolver\u001b[0m \u001b[0;34m==\u001b[0m \u001b[0;34m\"lsqr\"\u001b[0m\u001b[0;34m:\u001b[0m\u001b[0;34m\u001b[0m\u001b[0;34m\u001b[0m\u001b[0m\n\u001b[0;32m--> 592\u001b[0;31m             self._solve_lsqr(\n\u001b[0m\u001b[1;32m    593\u001b[0m                 \u001b[0mX\u001b[0m\u001b[0;34m,\u001b[0m\u001b[0;34m\u001b[0m\u001b[0;34m\u001b[0m\u001b[0m\n\u001b[1;32m    594\u001b[0m                 \u001b[0my\u001b[0m\u001b[0;34m,\u001b[0m\u001b[0;34m\u001b[0m\u001b[0;34m\u001b[0m\u001b[0m\n",
      "\u001b[0;32m~/.local/lib/python3.8/site-packages/sklearn/discriminant_analysis.py\u001b[0m in \u001b[0;36m_solve_lsqr\u001b[0;34m(self, X, y, shrinkage, covariance_estimator)\u001b[0m\n\u001b[1;32m    379\u001b[0m             \u001b[0mX\u001b[0m\u001b[0;34m,\u001b[0m \u001b[0my\u001b[0m\u001b[0;34m,\u001b[0m \u001b[0mself\u001b[0m\u001b[0;34m.\u001b[0m\u001b[0mpriors_\u001b[0m\u001b[0;34m,\u001b[0m \u001b[0mshrinkage\u001b[0m\u001b[0;34m,\u001b[0m \u001b[0mcovariance_estimator\u001b[0m\u001b[0;34m\u001b[0m\u001b[0;34m\u001b[0m\u001b[0m\n\u001b[1;32m    380\u001b[0m         )\n\u001b[0;32m--> 381\u001b[0;31m         \u001b[0mself\u001b[0m\u001b[0;34m.\u001b[0m\u001b[0mcoef_\u001b[0m \u001b[0;34m=\u001b[0m \u001b[0mlinalg\u001b[0m\u001b[0;34m.\u001b[0m\u001b[0mlstsq\u001b[0m\u001b[0;34m(\u001b[0m\u001b[0mself\u001b[0m\u001b[0;34m.\u001b[0m\u001b[0mcovariance_\u001b[0m\u001b[0;34m,\u001b[0m \u001b[0mself\u001b[0m\u001b[0;34m.\u001b[0m\u001b[0mmeans_\u001b[0m\u001b[0;34m.\u001b[0m\u001b[0mT\u001b[0m\u001b[0;34m)\u001b[0m\u001b[0;34m[\u001b[0m\u001b[0;36m0\u001b[0m\u001b[0;34m]\u001b[0m\u001b[0;34m.\u001b[0m\u001b[0mT\u001b[0m\u001b[0;34m\u001b[0m\u001b[0;34m\u001b[0m\u001b[0m\n\u001b[0m\u001b[1;32m    382\u001b[0m         self.intercept_ = -0.5 * np.diag(np.dot(self.means_, self.coef_.T)) + np.log(\n\u001b[1;32m    383\u001b[0m             \u001b[0mself\u001b[0m\u001b[0;34m.\u001b[0m\u001b[0mpriors_\u001b[0m\u001b[0;34m\u001b[0m\u001b[0;34m\u001b[0m\u001b[0m\n",
      "\u001b[0;32m~/miniconda3/envs/bci3.8/lib/python3.8/site-packages/scipy/linalg/_basic.py\u001b[0m in \u001b[0;36mlstsq\u001b[0;34m(a, b, cond, overwrite_a, overwrite_b, check_finite, lapack_driver)\u001b[0m\n\u001b[1;32m   1202\u001b[0m             \u001b[0;32mif\u001b[0m \u001b[0mreal_data\u001b[0m\u001b[0;34m:\u001b[0m\u001b[0;34m\u001b[0m\u001b[0;34m\u001b[0m\u001b[0m\n\u001b[1;32m   1203\u001b[0m                 \u001b[0mlwork\u001b[0m\u001b[0;34m,\u001b[0m \u001b[0miwork\u001b[0m \u001b[0;34m=\u001b[0m \u001b[0m_compute_lwork\u001b[0m\u001b[0;34m(\u001b[0m\u001b[0mlapack_lwork\u001b[0m\u001b[0;34m,\u001b[0m \u001b[0mm\u001b[0m\u001b[0;34m,\u001b[0m \u001b[0mn\u001b[0m\u001b[0;34m,\u001b[0m \u001b[0mnrhs\u001b[0m\u001b[0;34m,\u001b[0m \u001b[0mcond\u001b[0m\u001b[0;34m)\u001b[0m\u001b[0;34m\u001b[0m\u001b[0;34m\u001b[0m\u001b[0m\n\u001b[0;32m-> 1204\u001b[0;31m                 x, s, rank, info = lapack_func(a1, b1, lwork,\n\u001b[0m\u001b[1;32m   1205\u001b[0m                                                iwork, cond, False, False)\n\u001b[1;32m   1206\u001b[0m             \u001b[0;32melse\u001b[0m\u001b[0;34m:\u001b[0m  \u001b[0;31m# complex data\u001b[0m\u001b[0;34m\u001b[0m\u001b[0;34m\u001b[0m\u001b[0m\n",
      "\u001b[0;31mKeyboardInterrupt\u001b[0m: "
     ]
    }
   ],
   "source": [
    "for name, pipe in pipelines.items():\n",
    "    \n",
    "    for i in range(numSess):\n",
    "        cv = KFold(50)\n",
    "        x_split=x_data[50*i:50*(i+1)]\n",
    "        y_split=y_data[50*i:50*(i+1)]\n",
    "        preds = np.zeros(50)\n",
    "        for train_idx, test_idx in cv.split(x_split):\n",
    "            \n",
    "            y_train, y_test = y_split[train_idx], y_split[test_idx]\n",
    "\n",
    "            pipe.fit(x_split[train_idx], y_train)\n",
    "            preds[test_idx] = pipe.predict(x_split[test_idx])\n",
    "\n",
    "        # Printing the results\n",
    "        acc = np.mean(preds == y_split)\n",
    "        print(name + \":\")\n",
    "        print(\"Classification accuracy: %f \" % (acc))\n",
    "        \n",
    "        #cm = confusion_matrix(y_data, preds)\n",
    "        #ConfusionMatrixDisplay(cm).plot()\n",
    "        #plt.show()"
   ]
  },
  {
   "cell_type": "markdown",
   "id": "99a75787",
   "metadata": {},
   "source": [
    "### Cross-Session Evaluation:"
   ]
  },
  {
   "cell_type": "code",
   "execution_count": null,
   "id": "a4880c9f",
   "metadata": {},
   "outputs": [
    {
     "name": "stdout",
     "output_type": "stream",
     "text": [
      "XDAWN covariances + Logistic regression , classification accuracy: 0.566667 \n",
      "XDAWN + LDA, classification accuracy: 0.493333 \n",
      "LDA, classification accuracy: 0.540000 \n",
      "XDAWN covariances + LDA, classification accuracy: 0.573333 \n",
      "XDAWN covariances + SVM, classification accuracy: 0.526667 \n",
      "XDAWN covariances + KNearestNeighbors, classification accuracy: 0.526667 \n",
      "XDAWN covariances + MDM, classification accuracy: 0.486667 \n",
      "MLP, classification accuracy: 0.533333 \n"
     ]
    }
   ],
   "source": [
    "\n",
    "\n",
    "cv = KFold(numSess)\n",
    "preds = np.zeros(len(y_data))\n",
    "for name, pipe in pipelines.items():\n",
    "    for train_idx, test_idx in cv.split(x_data):\n",
    "        y_train, y_test = y_data[train_idx], y_data[test_idx]\n",
    "\n",
    "        pipe.fit(x_data[train_idx], y_train)\n",
    "        preds[test_idx] = pipe.predict(x_data[test_idx])\n",
    "\n",
    "    # Printing the results\n",
    "    acc = np.mean(preds == y_data)\n",
    "    print(name + \", classification accuracy: %f \" % (acc))\n",
    "    \n",
    "#    cm = confusion_matrix(y_data, preds)\n",
    "#    ConfusionMatrixDisplay(cm).plot()\n",
    " #   plt.show()"
   ]
  },
  {
   "cell_type": "code",
   "execution_count": 15,
   "id": "8b41b349",
   "metadata": {},
   "outputs": [
    {
     "ename": "IndentationError",
     "evalue": "unexpected indent (1634055813.py, line 2)",
     "output_type": "error",
     "traceback": [
      "\u001b[1;36m  Input \u001b[1;32mIn [15]\u001b[1;36m\u001b[0m\n\u001b[1;33m    y_train, y_test = y_data[train_idx], y_data[test_idx]\u001b[0m\n\u001b[1;37m    ^\u001b[0m\n\u001b[1;31mIndentationError\u001b[0m\u001b[1;31m:\u001b[0m unexpected indent\n"
     ]
    }
   ],
   "source": [
    "#for train_idx, test_idx in cv.split(x_data):\n",
    "    y_train, y_test = y_data[train_idx], y_data[test_idx]\n",
    "    XDC = XdawnCovariances(4, estimator=\"lwf\", xdawn_estimator=\"scm\")\n",
    "    x_train = x_data[train_idx]\n",
    "    covar = 100000000*XDC.fit_transform(x_train,y_train)\n",
    "    print(np.shape(covar))   \n",
    "    print(np.shape(x_train))      \n",
    "    \n",
    "    \n",
    "    x_train= np.concatenate((x_train.reshape((100, 1024)),covar.reshape(100,256)),axis=1)\n",
    "    print(np.shape(x_train)) \n",
    "    XdcMlpPipe.fit(x_data[train_idx], y_train)\n",
    "    preds[test_idx] = XdcMlpPipe.predict(x_data[test_idx])\n",
    "\n",
    "# Printing the results\n",
    "acc = np.mean(preds == y_data)\n",
    "print(\"Classification accuracy: %f \" % (acc))\n",
    "\n",
    "cm = confusion_matrix(y_data, preds)\n",
    "ConfusionMatrixDisplay(cm).plot()\n",
    "plt.show()"
   ]
  },
  {
   "cell_type": "markdown",
   "id": "0a256d0f",
   "metadata": {},
   "source": [
    "### Cross-Subject Evaluation"
   ]
  },
  {
   "cell_type": "code",
   "execution_count": 16,
   "id": "ce27fe52",
   "metadata": {},
   "outputs": [
    {
     "name": "stdout",
     "output_type": "stream",
     "text": [
      "XDAWN covariances + Logistic regression , classification accuracy: 0.520000 \n",
      "XDAWN + LDA, classification accuracy: 0.530000 \n",
      "LDA, classification accuracy: 0.533333 \n",
      "XDAWN covariances + LDA, classification accuracy: 0.523333 \n",
      "XDAWN covariances + SVM, classification accuracy: 0.550000 \n",
      "XDAWN covariances + SVM2, classification accuracy: 0.503333 \n",
      "XDAWN covariances + SVM3, classification accuracy: 0.486667 \n",
      "XDAWN covariances + KNearestNeighbors, classification accuracy: 0.520000 \n",
      "XDAWN covariances + MDM, classification accuracy: 0.503333 \n",
      "MLP, classification accuracy: 0.526667 \n",
      "XDAWN covariances + MLP , classification accuracy: 0.550000 \n"
     ]
    }
   ],
   "source": [
    "cv = KFold(2)\n",
    "preds = np.zeros(len(y_data))\n",
    "for name, pipe in pipelines.items():\n",
    "    for train_idx, test_idx in cv.split(x_data):\n",
    "        y_train, y_test = y_data[train_idx], y_data[test_idx]\n",
    "\n",
    "        pipe.fit(x_data[train_idx], y_train)\n",
    "        preds[test_idx] = pipe.predict(x_data[test_idx])\n",
    "\n",
    "    # Printing the results\n",
    "    acc = np.mean(preds == y_data)\n",
    "    print(name + \", classification accuracy: %f \" % (acc))"
   ]
  },
  {
   "cell_type": "code",
   "execution_count": null,
   "id": "876e75dd",
   "metadata": {},
   "outputs": [],
   "source": []
  }
 ],
 "metadata": {
  "kernelspec": {
   "display_name": "Python 3 (ipykernel)",
   "language": "python",
   "name": "python3"
  },
  "language_info": {
   "codemirror_mode": {
    "name": "ipython",
    "version": 3
   },
   "file_extension": ".py",
   "mimetype": "text/x-python",
   "name": "python",
   "nbconvert_exporter": "python",
   "pygments_lexer": "ipython3",
   "version": "3.8.13"
  }
 },
 "nbformat": 4,
 "nbformat_minor": 5
}
