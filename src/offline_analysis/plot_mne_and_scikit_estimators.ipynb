{
 "cells": [
  {
   "cell_type": "code",
   "execution_count": 1,
   "metadata": {},
   "outputs": [],
   "source": [
    "%matplotlib inline"
   ]
  },
  {
   "cell_type": "markdown",
   "metadata": {},
   "source": [
    "\n",
    "# MNE Epochs-based pipelines\n",
    "\n",
    "This example shows how to use machine learning pipeline based on MNE Epochs\n",
    "instead of Numpy arrays. This is useful to make the most of the MNE code base\n",
    "and to embed EEG specific code inside sklearn pipelines.\n",
    "\n",
    "We will compare different pipelines for P300:\n",
    "- Logistic regression, based on MNE Epochs\n",
    "- XDAWN and Logistic Regression (LR), based on MNE Epochs\n",
    "- XDAWN extended covariance and LR on tangent space, based on Numpy\n"
   ]
  },
  {
   "cell_type": "code",
   "execution_count": 2,
   "metadata": {},
   "outputs": [],
   "source": [
    "# Authors: Sylvain Chevallier\n",
    "#\n",
    "# License: BSD (3-clause)\n",
    "# sphinx_gallery_thumbnail_number = 2\n",
    "\n",
    "import warnings\n",
    "\n",
    "import matplotlib.pyplot as plt\n",
    "import pandas as pd\n",
    "from mne.decoding import Vectorizer\n",
    "from mne.preprocessing import Xdawn\n",
    "from pyriemann.estimation import XdawnCovariances\n",
    "from pyriemann.tangentspace import TangentSpace\n",
    "from sklearn.base import BaseEstimator, TransformerMixin\n",
    "from sklearn.linear_model import LogisticRegression\n",
    "from sklearn.pipeline import make_pipeline\n",
    "from sklearn.preprocessing import StandardScaler\n",
    "\n",
    "import moabb\n",
    "from moabb.analysis.meta_analysis import (  # noqa: E501\n",
    "    compute_dataset_statistics,\n",
    "    find_significant_differences,\n",
    ")\n",
    "from moabb.analysis.plotting import paired_plot, summary_plot\n",
    "from moabb.datasets import BNCI2014009\n",
    "from moabb.evaluations import CrossSessionEvaluation\n",
    "from moabb.paradigms import P300\n",
    "\n",
    "\n",
    "warnings.simplefilter(action=\"ignore\", category=FutureWarning)\n",
    "warnings.simplefilter(action=\"ignore\", category=RuntimeWarning)\n",
    "moabb.set_log_level(\"info\")"
   ]
  },
  {
   "cell_type": "markdown",
   "metadata": {},
   "source": [
    "## Loading Dataset\n",
    "\n",
    "Load 2 subjects of BNCI 2014-009 dataset, with 3 session each\n",
    "\n"
   ]
  },
  {
   "cell_type": "code",
   "execution_count": 3,
   "metadata": {},
   "outputs": [],
   "source": [
    "dataset = BNCI2014009()\n",
    "dataset.subject_list = dataset.subject_list[:3]\n",
    "datasets = [dataset]\n",
    "paradigm = P300()"
   ]
  },
  {
   "cell_type": "markdown",
   "metadata": {},
   "source": [
    "## Get Data (optional)\n",
    "\n",
    "To get access to the EEG signals downloaded from the dataset, you could\n",
    "use ``dataset.get_data([subject_id)`` to obtain the EEG as MNE Epochs, stored\n",
    "in a dictionary of sessions and runs.\n",
    "The ``paradigm.get_data(dataset=dataset, subjects=[subject_id])`` allows to\n",
    "obtain the preprocessed EEG data, the labels and the meta information. By\n",
    "default, the EEG is return as a Numpy array. With ``return_epochs=True``, MNE\n",
    "Epochs are returned.\n",
    "\n"
   ]
  },
  {
   "cell_type": "code",
   "execution_count": 4,
   "metadata": {},
   "outputs": [
    {
     "name": "stderr",
     "output_type": "stream",
     "text": [
      "Downloading data from 'http://bnci-horizon-2020.eu/database/data-sets/009-2014/A01S.mat' to file 'C:\\Users\\Marcus\\mne_data\\MNE-bnci-data\\database\\data-sets\\009-2014\\A01S.mat'.\n"
     ]
    },
    {
     "name": "stdout",
     "output_type": "stream",
     "text": [
      "MNE_DATA is not already configured. It will be set to default location in the home directory - C:\\Users\\Marcus\\mne_data\n",
      "All datasets will be downloaded to this location, if anything is already downloaded, please move manually to this location\n"
     ]
    },
    {
     "name": "stderr",
     "output_type": "stream",
     "text": [
      "100%|#####################################| 18.5M/18.5M [00:00<00:00, 18.5GB/s]\n",
      "SHA256 hash of downloaded file: beddf78f1834ddef15553e32c9d18c46bc9b3fd244ef3a8e2fe362066dfb027d\n",
      "Use this value as the 'known_hash' argument of 'pooch.retrieve' to ensure that the file hasn't changed if it is downloaded again in the future.\n"
     ]
    }
   ],
   "source": [
    "subject_list = [1]\n",
    "sessions = dataset.get_data(subject_list)\n",
    "X, labels, meta = paradigm.get_data(dataset=dataset, subjects=subject_list)\n",
    "epochs, labels, meta = paradigm.get_data(\n",
    "    dataset=dataset, subjects=subject_list, return_epochs=True\n",
    ")"
   ]
  },
  {
   "cell_type": "markdown",
   "metadata": {},
   "source": [
    "## A Simple MNE Pipeline\n",
    "\n",
    "Using ``return_epochs=True`` in the evaluation, it is possible to design a\n",
    "pipeline based on MNE Epochs input. Let's create a simple one, that\n",
    "reshape the input data from epochs, rescale the data and uses a logistic\n",
    "regression to classify the data. We will need to write a basic Transformer\n",
    "estimator, that complies with\n",
    "`sklearn convention <https://scikit-learn.org/stable/developers/develop.html>`_.\n",
    "This transformer will extract the data from an input Epoch, and reshapes into\n",
    "2D array.\n",
    "\n"
   ]
  },
  {
   "cell_type": "code",
   "execution_count": 5,
   "metadata": {},
   "outputs": [],
   "source": [
    "class MyVectorizer(BaseEstimator, TransformerMixin):\n",
    "    def __init__(self):\n",
    "        pass\n",
    "\n",
    "    def fit(self, X, y=None):\n",
    "        arr = X.get_data()\n",
    "        self.features_shape_ = arr.shape[1:]\n",
    "        return self\n",
    "\n",
    "    def transform(self, X, y=None):\n",
    "        arr = X.get_data()\n",
    "        return arr.reshape(len(arr), -1)"
   ]
  },
  {
   "cell_type": "markdown",
   "metadata": {},
   "source": [
    "We will define a pipeline that is based on this new class, using a scaler\n",
    "and a logistic regression. This pipeline is evaluated across session using\n",
    "ROC-AUC metric.\n",
    "\n"
   ]
  },
  {
   "cell_type": "code",
   "execution_count": 6,
   "metadata": {},
   "outputs": [
    {
     "name": "stderr",
     "output_type": "stream",
     "text": [
      "2022-04-10 16:23:59,624 INFO MainThread moabb.evaluations.base Processing dataset: 009-2014\n",
      "009-2014-CrossSession:   0%|          | 0/3 [00:00<?, ?it/s]2022-04-10 16:24:01,279 INFO MainThread moabb.evaluations.base MNE LR | 009-2014 | 1 | session_0: Score 0.908\n",
      "2022-04-10 16:24:02,461 INFO MainThread moabb.evaluations.base MNE LR | 009-2014 | 1 | session_1: Score 0.918\n",
      "2022-04-10 16:24:03,616 INFO MainThread moabb.evaluations.base MNE LR | 009-2014 | 1 | session_2: Score 0.909\n",
      "009-2014-CrossSession:  33%|███▎      | 1/3 [00:04<00:08,  4.00s/it]Downloading data from 'http://bnci-horizon-2020.eu/database/data-sets/009-2014/A02S.mat' to file 'C:\\Users\\Marcus\\mne_data\\MNE-bnci-data\\database\\data-sets\\009-2014\\A02S.mat'.\n",
      "\n",
      "  0%|                                              | 0.00/18.5M [00:00<?, ?B/s]\u001b[A\n",
      "  0%|1                                     | 50.2k/18.5M [00:00<00:44, 414kB/s]\u001b[A\n",
      "  1%|2                                      | 116k/18.5M [00:00<00:37, 489kB/s]\u001b[A\n",
      "  1%|3                                      | 181k/18.5M [00:00<00:35, 514kB/s]\u001b[A\n",
      "  1%|5                                      | 247k/18.5M [00:00<00:34, 527kB/s]\u001b[A\n",
      "  2%|6                                      | 312k/18.5M [00:00<00:34, 534kB/s]\u001b[A\n",
      "  2%|8                                      | 394k/18.5M [00:00<00:31, 583kB/s]\u001b[A\n",
      "  2%|9                                      | 460k/18.5M [00:00<00:31, 570kB/s]\u001b[A\n",
      "  3%|#1                                     | 542k/18.5M [00:00<00:29, 606kB/s]\u001b[A\n",
      "  3%|#3                                     | 624k/18.5M [00:01<00:28, 630kB/s]\u001b[A\n",
      "  4%|#4                                     | 706k/18.5M [00:01<00:27, 646kB/s]\u001b[A\n",
      "  4%|#6                                     | 771k/18.5M [00:01<00:28, 615kB/s]\u001b[A\n",
      "  5%|#7                                     | 853k/18.5M [00:01<00:27, 634kB/s]\u001b[A\n",
      "  5%|#9                                     | 919k/18.5M [00:01<00:28, 607kB/s]\u001b[A\n",
      "  5%|##                                    | 1.00M/18.5M [00:01<00:27, 630kB/s]\u001b[A\n",
      "  6%|##2                                   | 1.08M/18.5M [00:01<00:27, 646kB/s]\u001b[A\n",
      "  6%|##3                                   | 1.16M/18.5M [00:01<00:26, 657kB/s]\u001b[A\n",
      "  7%|##5                                   | 1.25M/18.5M [00:02<00:26, 663kB/s]\u001b[A\n",
      "  7%|##7                                   | 1.33M/18.5M [00:02<00:25, 669kB/s]\u001b[A\n",
      "  8%|##8                                   | 1.41M/18.5M [00:02<00:25, 674kB/s]\u001b[A\n",
      "  8%|###                                   | 1.49M/18.5M [00:02<00:25, 675kB/s]\u001b[A\n",
      "  8%|###2                                  | 1.57M/18.5M [00:02<00:24, 679kB/s]\u001b[A\n",
      "  9%|###4                                  | 1.67M/18.5M [00:02<00:23, 719kB/s]\u001b[A\n",
      " 10%|###6                                  | 1.77M/18.5M [00:02<00:22, 751kB/s]\u001b[A\n",
      " 10%|###8                                  | 1.87M/18.5M [00:02<00:21, 769kB/s]\u001b[A\n",
      " 11%|####                                  | 1.98M/18.5M [00:03<00:20, 825kB/s]\u001b[A\n",
      " 11%|####2                                 | 2.08M/18.5M [00:03<00:19, 823kB/s]\u001b[A\n",
      " 12%|####5                                 | 2.20M/18.5M [00:03<00:18, 862kB/s]\u001b[A\n",
      " 12%|####7                                 | 2.29M/18.5M [00:03<00:19, 849kB/s]\u001b[A\n",
      " 13%|####9                                 | 2.41M/18.5M [00:03<00:18, 881kB/s]\u001b[A\n",
      " 14%|#####1                                | 2.52M/18.5M [00:03<00:17, 903kB/s]\u001b[A\n",
      " 14%|#####3                                | 2.62M/18.5M [00:03<00:18, 878kB/s]\u001b[A\n",
      " 15%|#####6                                | 2.75M/18.5M [00:03<00:16, 942kB/s]\u001b[A\n",
      " 15%|#####8                                | 2.87M/18.5M [00:03<00:16, 946kB/s]\u001b[A\n",
      " 16%|######1                               | 3.00M/18.5M [00:04<00:15, 989kB/s]\u001b[A\n",
      " 17%|######3                               | 3.11M/18.5M [00:04<00:15, 979kB/s]\u001b[A\n",
      " 18%|######4                              | 3.25M/18.5M [00:04<00:15, 1.01MB/s]\u001b[A\n",
      " 18%|######8                               | 3.36M/18.5M [00:04<00:15, 996kB/s]\u001b[A\n",
      " 19%|######9                              | 3.49M/18.5M [00:04<00:14, 1.02MB/s]\u001b[A\n",
      " 20%|#######2                             | 3.62M/18.5M [00:04<00:14, 1.04MB/s]\u001b[A\n",
      " 20%|#######4                             | 3.75M/18.5M [00:04<00:14, 1.05MB/s]\u001b[A\n",
      " 21%|#######7                             | 3.88M/18.5M [00:04<00:13, 1.07MB/s]\u001b[A\n",
      " 22%|########                             | 4.03M/18.5M [00:05<00:13, 1.11MB/s]\u001b[A\n",
      " 22%|########2                            | 4.15M/18.5M [00:05<00:13, 1.07MB/s]\u001b[A\n",
      " 23%|########5                            | 4.28M/18.5M [00:05<00:13, 1.07MB/s]\u001b[A\n",
      " 24%|########8                            | 4.42M/18.5M [00:05<00:12, 1.12MB/s]\u001b[A\n",
      " 25%|#########                            | 4.56M/18.5M [00:05<00:12, 1.11MB/s]\u001b[A\n",
      " 25%|#########3                           | 4.70M/18.5M [00:05<00:12, 1.15MB/s]\u001b[A\n",
      " 26%|#########7                           | 4.87M/18.5M [00:05<00:11, 1.21MB/s]\u001b[A\n",
      " 27%|##########                           | 5.01M/18.5M [00:05<00:11, 1.22MB/s]\u001b[A\n",
      " 28%|##########3                          | 5.20M/18.5M [00:05<00:09, 1.39MB/s]\u001b[A\n",
      " 29%|##########7                          | 5.36M/18.5M [00:06<00:09, 1.39MB/s]\u001b[A\n",
      " 30%|###########                          | 5.56M/18.5M [00:06<00:08, 1.47MB/s]\u001b[A\n",
      " 31%|###########5                         | 5.77M/18.5M [00:06<00:08, 1.54MB/s]\u001b[A\n",
      " 32%|###########9                         | 6.00M/18.5M [00:06<00:07, 1.65MB/s]\u001b[A\n",
      " 34%|############4                        | 6.24M/18.5M [00:06<00:06, 1.77MB/s]\u001b[A\n",
      " 35%|#############                        | 6.52M/18.5M [00:06<00:06, 1.93MB/s]\u001b[A\n",
      " 37%|#############5                       | 6.77M/18.5M [00:06<00:05, 2.05MB/s]\u001b[A\n",
      " 38%|#############9                       | 6.98M/18.5M [00:06<00:05, 2.03MB/s]\u001b[A\n",
      " 39%|##############5                      | 7.29M/18.5M [00:07<00:04, 2.30MB/s]\u001b[A\n",
      " 41%|###############                      | 7.54M/18.5M [00:07<00:04, 2.23MB/s]\u001b[A\n",
      " 42%|###############5                     | 7.80M/18.5M [00:07<00:04, 2.30MB/s]\u001b[A\n",
      " 44%|################1                    | 8.09M/18.5M [00:07<00:04, 2.46MB/s]\u001b[A\n",
      " 45%|################7                    | 8.38M/18.5M [00:07<00:03, 2.57MB/s]\u001b[A\n",
      " 47%|#################4                   | 8.73M/18.5M [00:07<00:03, 2.67MB/s]\u001b[A\n",
      " 49%|##################2                  | 9.13M/18.5M [00:07<00:03, 3.00MB/s]\u001b[A\n",
      " 51%|##################8                  | 9.45M/18.5M [00:07<00:03, 2.98MB/s]\u001b[A\n",
      " 53%|###################6                 | 9.85M/18.5M [00:07<00:02, 3.19MB/s]\u001b[A\n",
      " 55%|####################3                | 10.2M/18.5M [00:08<00:02, 3.14MB/s]\u001b[A\n",
      " 58%|#####################3               | 10.7M/18.5M [00:08<00:02, 3.48MB/s]\u001b[A\n",
      " 60%|######################3              | 11.2M/18.5M [00:08<00:01, 3.91MB/s]\u001b[A\n",
      " 63%|#######################1             | 11.6M/18.5M [00:08<00:01, 3.85MB/s]\u001b[A\n",
      " 65%|########################1            | 12.1M/18.5M [00:08<00:01, 4.14MB/s]\u001b[A\n",
      " 68%|#########################1           | 12.6M/18.5M [00:08<00:01, 4.26MB/s]\u001b[A\n",
      " 70%|##########################           | 13.1M/18.5M [00:08<00:01, 4.33MB/s]\u001b[A\n",
      " 73%|###########################          | 13.6M/18.5M [00:08<00:01, 4.49MB/s]\u001b[A\n",
      " 76%|############################1        | 14.1M/18.5M [00:08<00:00, 4.66MB/s]\u001b[A\n",
      " 79%|#############################2       | 14.7M/18.5M [00:08<00:00, 5.00MB/s]\u001b[A\n",
      " 82%|##############################4      | 15.2M/18.5M [00:09<00:00, 5.16MB/s]\u001b[A\n",
      " 86%|###############################8     | 15.9M/18.5M [00:09<00:00, 5.70MB/s]\u001b[A\n",
      " 90%|#################################1   | 16.6M/18.5M [00:09<00:00, 5.84MB/s]\u001b[A\n",
      " 93%|##################################4  | 17.3M/18.5M [00:09<00:00, 6.01MB/s]\u001b[A\n",
      " 97%|###################################7 | 17.9M/18.5M [00:09<00:00, 6.16MB/s]\u001b[A\n",
      "100%|#####################################| 18.5M/18.5M [00:00<00:00, 18.5GB/s]\u001b[A\n",
      "SHA256 hash of downloaded file: d6b40d723b90bb9a71127be66d7c3f66a13861cacafdb7c45efbcb8fcf9a726e\n",
      "Use this value as the 'known_hash' argument of 'pooch.retrieve' to ensure that the file hasn't changed if it is downloaded again in the future.\n",
      "2022-04-10 16:24:14,660 INFO MainThread moabb.evaluations.base MNE LR | 009-2014 | 2 | session_0: Score 0.974\n",
      "2022-04-10 16:24:15,630 INFO MainThread moabb.evaluations.base MNE LR | 009-2014 | 2 | session_1: Score 0.943\n",
      "2022-04-10 16:24:16,450 INFO MainThread moabb.evaluations.base MNE LR | 009-2014 | 2 | session_2: Score 0.955\n"
     ]
    },
    {
     "name": "stderr",
     "output_type": "stream",
     "text": [
      "009-2014-CrossSession:  67%|██████▋   | 2/3 [00:16<00:09,  9.20s/it]Downloading data from 'http://bnci-horizon-2020.eu/database/data-sets/009-2014/A03S.mat' to file 'C:\\Users\\Marcus\\mne_data\\MNE-bnci-data\\database\\data-sets\\009-2014\\A03S.mat'.\n",
      "\n",
      "  0%|                                              | 0.00/18.5M [00:00<?, ?B/s]\u001b[A\n",
      "  0%|1                                     | 50.2k/18.5M [00:00<00:53, 343kB/s]\u001b[A\n",
      "  1%|2                                      | 116k/18.5M [00:00<00:37, 495kB/s]\u001b[A\n",
      "  1%|4                                      | 230k/18.5M [00:00<00:28, 649kB/s]\u001b[A\n",
      "  2%|7                                      | 378k/18.5M [00:00<00:19, 915kB/s]\u001b[A\n",
      "  3%|#2                                    | 624k/18.5M [00:00<00:12, 1.39MB/s]\u001b[A\n",
      "  5%|#8                                    | 902k/18.5M [00:00<00:10, 1.63MB/s]\u001b[A\n",
      "  7%|##4                                  | 1.25M/18.5M [00:00<00:08, 2.12MB/s]\u001b[A\n",
      "  9%|###4                                 | 1.72M/18.5M [00:00<00:05, 2.85MB/s]\u001b[A\n",
      " 13%|####7                                | 2.36M/18.5M [00:01<00:04, 3.87MB/s]\u001b[A\n",
      " 17%|######1                              | 3.08M/18.5M [00:01<00:03, 4.85MB/s]\u001b[A\n",
      " 22%|########1                            | 4.10M/18.5M [00:01<00:02, 6.41MB/s]\u001b[A\n",
      " 29%|##########8                          | 5.44M/18.5M [00:01<00:01, 8.43MB/s]\u001b[A\n",
      " 39%|##############2                      | 7.16M/18.5M [00:01<00:01, 11.0MB/s]\u001b[A\n",
      " 51%|##################6                  | 9.36M/18.5M [00:01<00:00, 14.3MB/s]\u001b[A\n",
      " 66%|########################3            | 12.2M/18.5M [00:01<00:00, 18.4MB/s]\u001b[A\n",
      " 85%|###############################4     | 15.7M/18.5M [00:01<00:00, 23.5MB/s]\u001b[A\n",
      "100%|#####################################| 18.5M/18.5M [00:00<00:00, 18.5GB/s]\u001b[A\n",
      "SHA256 hash of downloaded file: a19b5a0e1e59e2aea04c6d21ad19b6cf11f7eb2074dd59617bb9effd5b30d212\n",
      "Use this value as the 'known_hash' argument of 'pooch.retrieve' to ensure that the file hasn't changed if it is downloaded again in the future.\n",
      "2022-04-10 16:24:19,773 INFO MainThread moabb.evaluations.base MNE LR | 009-2014 | 3 | session_0: Score 0.706\n",
      "2022-04-10 16:24:22,195 INFO MainThread moabb.evaluations.base MNE LR | 009-2014 | 3 | session_1: Score 0.936\n",
      "2022-04-10 16:24:24,217 INFO MainThread moabb.evaluations.base MNE LR | 009-2014 | 3 | session_2: Score 0.835\n",
      "009-2014-CrossSession: 100%|██████████| 3/3 [00:24<00:00,  8.20s/it]\n"
     ]
    }
   ],
   "source": [
    "mne_ppl = {}\n",
    "mne_ppl[\"MNE LR\"] = make_pipeline(\n",
    "    MyVectorizer(), StandardScaler(), LogisticRegression(penalty=\"l1\", solver=\"liblinear\")\n",
    ")\n",
    "\n",
    "mne_eval = CrossSessionEvaluation(\n",
    "    paradigm=paradigm,\n",
    "    datasets=datasets,\n",
    "    suffix=\"examples\",\n",
    "    overwrite=True,\n",
    "    return_epochs=True,\n",
    ")\n",
    "mne_res = mne_eval.process(mne_ppl)"
   ]
  },
  {
   "cell_type": "markdown",
   "metadata": {},
   "source": [
    "## Advanced MNE Pipeline\n",
    "\n",
    "In some case, the MNE pipeline should have access to the original labels from\n",
    "the dataset. This is the case for the XDAWN code of MNE. One could pass\n",
    "`mne_labels` to evaluation in order to keep this label.\n",
    "As an example, we will define a pipeline that computes an XDAWN filter, rescale,\n",
    "then apply a logistic regression.\n",
    "\n"
   ]
  },
  {
   "cell_type": "code",
   "execution_count": 7,
   "metadata": {},
   "outputs": [
    {
     "name": "stderr",
     "output_type": "stream",
     "text": [
      "2022-04-10 16:24:39,448 INFO MainThread moabb.evaluations.base Processing dataset: 009-2014\n",
      "009-2014-CrossSession:   0%|          | 0/3 [00:00<?, ?it/s]2022-04-10 16:24:41,136 INFO MainThread moabb.evaluations.base XDAWN LR | 009-2014 | 1 | session_0: Score 0.905\n",
      "2022-04-10 16:24:42,306 INFO MainThread moabb.evaluations.base XDAWN LR | 009-2014 | 1 | session_1: Score 0.880\n",
      "2022-04-10 16:24:43,531 INFO MainThread moabb.evaluations.base XDAWN LR | 009-2014 | 1 | session_2: Score 0.870\n",
      "009-2014-CrossSession:  33%|███▎      | 1/3 [00:04<00:08,  4.09s/it]2022-04-10 16:24:44,691 INFO MainThread moabb.evaluations.base XDAWN LR | 009-2014 | 2 | session_0: Score 0.943\n",
      "2022-04-10 16:24:45,592 INFO MainThread moabb.evaluations.base XDAWN LR | 009-2014 | 2 | session_1: Score 0.945\n",
      "2022-04-10 16:24:46,395 INFO MainThread moabb.evaluations.base XDAWN LR | 009-2014 | 2 | session_2: Score 0.925\n",
      "009-2014-CrossSession:  67%|██████▋   | 2/3 [00:06<00:03,  3.37s/it]2022-04-10 16:24:47,789 INFO MainThread moabb.evaluations.base XDAWN LR | 009-2014 | 3 | session_0: Score 0.681\n",
      "2022-04-10 16:24:50,003 INFO MainThread moabb.evaluations.base XDAWN LR | 009-2014 | 3 | session_1: Score 0.859\n",
      "2022-04-10 16:24:51,911 INFO MainThread moabb.evaluations.base XDAWN LR | 009-2014 | 3 | session_2: Score 0.810\n",
      "009-2014-CrossSession: 100%|██████████| 3/3 [00:12<00:00,  4.16s/it]\n"
     ]
    }
   ],
   "source": [
    "mne_adv = {}\n",
    "mne_adv[\"XDAWN LR\"] = make_pipeline(\n",
    "    Xdawn(n_components=5, reg=\"ledoit_wolf\", correct_overlap=False),\n",
    "    Vectorizer(),\n",
    "    StandardScaler(),\n",
    "    LogisticRegression(penalty=\"l1\", solver=\"liblinear\"),\n",
    ")\n",
    "adv_eval = CrossSessionEvaluation(\n",
    "    paradigm=paradigm,\n",
    "    datasets=datasets,\n",
    "    suffix=\"examples\",\n",
    "    overwrite=True,\n",
    "    return_epochs=True,\n",
    "    mne_labels=True,\n",
    ")\n",
    "adv_res = mne_eval.process(mne_adv)"
   ]
  },
  {
   "cell_type": "markdown",
   "metadata": {},
   "source": [
    "## Numpy-based Pipeline\n",
    "\n",
    "For the comparison, we will define a Numpy-based pipeline that relies on\n",
    "pyriemann to estimate XDAWN-extended covariance matrices that are projected\n",
    "on the tangent space and classified with a logistic regression.\n",
    "\n"
   ]
  },
  {
   "cell_type": "code",
   "execution_count": 8,
   "metadata": {},
   "outputs": [
    {
     "name": "stderr",
     "output_type": "stream",
     "text": [
      "2022-04-10 16:24:51,944 INFO MainThread moabb.evaluations.base Processing dataset: 009-2014\n",
      "009-2014-CrossSession:   0%|          | 0/3 [00:00<?, ?it/s]2022-04-10 16:24:55,736 INFO MainThread moabb.evaluations.base RG LR | 009-2014 | 1 | session_0: Score 0.948\n",
      "2022-04-10 16:24:59,150 INFO MainThread moabb.evaluations.base RG LR | 009-2014 | 1 | session_1: Score 0.939\n",
      "2022-04-10 16:25:02,555 INFO MainThread moabb.evaluations.base RG LR | 009-2014 | 1 | session_2: Score 0.945\n",
      "009-2014-CrossSession:  33%|███▎      | 1/3 [00:10<00:21, 10.62s/it]2022-04-10 16:25:06,321 INFO MainThread moabb.evaluations.base RG LR | 009-2014 | 2 | session_0: Score 0.970\n",
      "2022-04-10 16:25:09,703 INFO MainThread moabb.evaluations.base RG LR | 009-2014 | 2 | session_1: Score 0.976\n",
      "2022-04-10 16:25:13,093 INFO MainThread moabb.evaluations.base RG LR | 009-2014 | 2 | session_2: Score 0.967\n",
      "009-2014-CrossSession:  67%|██████▋   | 2/3 [00:21<00:10, 10.57s/it]2022-04-10 16:25:16,877 INFO MainThread moabb.evaluations.base RG LR | 009-2014 | 3 | session_0: Score 0.743\n",
      "2022-04-10 16:25:20,493 INFO MainThread moabb.evaluations.base RG LR | 009-2014 | 3 | session_1: Score 0.951\n",
      "2022-04-10 16:25:24,261 INFO MainThread moabb.evaluations.base RG LR | 009-2014 | 3 | session_2: Score 0.907\n",
      "009-2014-CrossSession: 100%|██████████| 3/3 [00:32<00:00, 10.78s/it]\n"
     ]
    }
   ],
   "source": [
    "sk_ppl = {}\n",
    "sk_ppl[\"RG LR\"] = make_pipeline(\n",
    "    XdawnCovariances(nfilter=5, estimator=\"lwf\", xdawn_estimator=\"scm\"),\n",
    "    TangentSpace(),\n",
    "    LogisticRegression(penalty=\"l1\", solver=\"liblinear\"),\n",
    ")\n",
    "sk_eval = CrossSessionEvaluation(\n",
    "    paradigm=paradigm,\n",
    "    datasets=datasets,\n",
    "    suffix=\"examples\",\n",
    "    overwrite=True,\n",
    ")\n",
    "sk_res = sk_eval.process(sk_ppl)"
   ]
  },
  {
   "cell_type": "markdown",
   "metadata": {},
   "source": [
    "## Combining Results\n",
    "\n",
    "Even if the results have been obtained by different evaluation processes, it\n",
    "is possible to combine the resulting DataFrames to analyze and plot the\n",
    "results.\n",
    "\n"
   ]
  },
  {
   "cell_type": "code",
   "execution_count": 9,
   "metadata": {},
   "outputs": [],
   "source": [
    "all_res = pd.concat([mne_res, adv_res, sk_res])"
   ]
  },
  {
   "cell_type": "code",
   "execution_count": 12,
   "metadata": {},
   "outputs": [
    {
     "name": "stdout",
     "output_type": "stream",
     "text": [
      "      score      time  samples subject    session  channels  n_sessions  \\\n",
      "0  0.948047  3.419633   1152.0       1  session_0        16           3   \n",
      "1  0.939019  3.405098   1152.0       1  session_1        16           3   \n",
      "2  0.944944  3.394088   1152.0       1  session_2        16           3   \n",
      "3  0.969944  3.378578   1152.0       2  session_0        16           3   \n",
      "4  0.976324  3.374555   1152.0       2  session_1        16           3   \n",
      "5  0.967166  3.378924   1152.0       2  session_2        16           3   \n",
      "6  0.743490  3.397660   1152.0       3  session_0        16           3   \n",
      "7  0.950629  3.608205   1152.0       3  session_1        16           3   \n",
      "8  0.906554  3.757547   1152.0       3  session_2        16           3   \n",
      "\n",
      "    dataset pipeline  \n",
      "0  009-2014    RG LR  \n",
      "1  009-2014    RG LR  \n",
      "2  009-2014    RG LR  \n",
      "3  009-2014    RG LR  \n",
      "4  009-2014    RG LR  \n",
      "5  009-2014    RG LR  \n",
      "6  009-2014    RG LR  \n",
      "7  009-2014    RG LR  \n",
      "8  009-2014    RG LR  \n"
     ]
    }
   ],
   "source": [
    "print(sk_res)"
   ]
  },
  {
   "cell_type": "markdown",
   "metadata": {},
   "source": [
    "We could compare the Euclidean and Riemannian performance using a `paired_plot`\n",
    "\n"
   ]
  },
  {
   "cell_type": "code",
   "execution_count": 10,
   "metadata": {},
   "outputs": [
    {
     "data": {
      "image/png": "[encoded data removed]",
      "text/plain": [
       "<Figure size 792x612 with 1 Axes>"
      ]
     },
     "execution_count": 10,
     "metadata": {},
     "output_type": "execute_result"
    },
    {
     "data": {
      "image/png": "[encoded data removed]",
      "text/plain": [
       "<Figure size 792x612 with 1 Axes>"
      ]
     },
     "metadata": {},
     "output_type": "display_data"
    }
   ],
   "source": [
    "paired_plot(all_res, \"XDAWN LR\", \"RG LR\")"
   ]
  },
  {
   "cell_type": "markdown",
   "metadata": {},
   "source": [
    "All the results could be compared and statistical analysis could highlight the\n",
    "differences between pipelines.\n",
    "\n"
   ]
  },
  {
   "cell_type": "code",
   "execution_count": 11,
   "metadata": {},
   "outputs": [
    {
     "data": {
      "image/png": "[encoded data removed]",
      "text/plain": [
       "<Figure size 432x288 with 1 Axes>"
      ]
     },
     "metadata": {},
     "output_type": "display_data"
    }
   ],
   "source": [
    "stats = compute_dataset_statistics(all_res)\n",
    "P, T = find_significant_differences(stats)\n",
    "summary_plot(P, T)\n",
    "plt.show()"
   ]
  },
  {
   "cell_type": "code",
   "execution_count": null,
   "metadata": {},
   "outputs": [],
   "source": []
  }
 ],
 "metadata": {
  "kernelspec": {
   "display_name": "Python 3 (ipykernel)",
   "language": "python",
   "name": "python3"
  },
  "language_info": {
   "codemirror_mode": {
    "name": "ipython",
    "version": 3
   },
   "file_extension": ".py",
   "mimetype": "text/x-python",
   "name": "python",
   "nbconvert_exporter": "python",
   "pygments_lexer": "ipython3",
   "version": "3.7.12"
  }
 },
 "nbformat": 4,
 "nbformat_minor": 1
}
